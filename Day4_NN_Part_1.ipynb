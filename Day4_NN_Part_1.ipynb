{
  "nbformat": 4,
  "nbformat_minor": 0,
  "metadata": {
    "colab": {
      "name": "Day4 NN-Part-1.ipynb",
      "provenance": []
    },
    "kernelspec": {
      "name": "python3",
      "display_name": "Python 3"
    },
    "language_info": {
      "name": "python"
    }
  },
  "cells": [
    {
      "cell_type": "code",
      "metadata": {
        "id": "qj1CRIJeSke2"
      },
      "source": [
        ""
      ],
      "execution_count": null,
      "outputs": []
    },
    {
      "cell_type": "markdown",
      "metadata": {
        "id": "Zir5hA8iTrvk"
      },
      "source": [
        "# OOP"
      ]
    },
    {
      "cell_type": "code",
      "metadata": {
        "id": "zipQk3IhTvad"
      },
      "source": [
        "class SimpleClass():\n",
        "\n",
        "  def __init__(self, name):\n",
        "    print(\"Hello \"+name)"
      ],
      "execution_count": 15,
      "outputs": []
    },
    {
      "cell_type": "code",
      "metadata": {
        "colab": {
          "base_uri": "https://localhost:8080/"
        },
        "id": "kgpcol7iUC9b",
        "outputId": "8499d701-5a65-4ae1-f6f4-1241a0f0ebc5"
      },
      "source": [
        "y = SimpleClass(\"Satyam\")\n",
        "print(y)"
      ],
      "execution_count": 8,
      "outputs": [
        {
          "output_type": "stream",
          "text": [
            "Hello Satyam\n",
            "<__main__.SimpleClass object at 0x7f3cc03c6790>\n"
          ],
          "name": "stdout"
        }
      ]
    },
    {
      "cell_type": "code",
      "metadata": {
        "id": "LT2e5XFlUQJv"
      },
      "source": [
        "class ExtendedClass(SimpleClass):\n",
        "  def __init__(self):\n",
        "    print(\"Exended Class\")"
      ],
      "execution_count": 11,
      "outputs": []
    },
    {
      "cell_type": "code",
      "metadata": {
        "colab": {
          "base_uri": "https://localhost:8080/"
        },
        "id": "W4ylWtYGVCLR",
        "outputId": "88c89306-4b82-4c71-b41e-b9c0cf349523"
      },
      "source": [
        "s = ExtendedClass()"
      ],
      "execution_count": 12,
      "outputs": [
        {
          "output_type": "stream",
          "text": [
            "Exended Class\n"
          ],
          "name": "stdout"
        }
      ]
    },
    {
      "cell_type": "code",
      "metadata": {
        "id": "EMEq2kTvVGzB"
      },
      "source": [
        "class ExtendedClass(SimpleClass):\n",
        "\n",
        "  def __init__(self):\n",
        "    super().__init__(\"Vishwajeet\")\n",
        "    print(\"Exended Class\")"
      ],
      "execution_count": 18,
      "outputs": []
    },
    {
      "cell_type": "code",
      "metadata": {
        "colab": {
          "base_uri": "https://localhost:8080/"
        },
        "id": "hqehoIywVZP-",
        "outputId": "0e4255f9-53e1-4938-91d8-2127064579e1"
      },
      "source": [
        "s = ExtendedClass()"
      ],
      "execution_count": 19,
      "outputs": [
        {
          "output_type": "stream",
          "text": [
            "Hello Vishwajeet\n",
            "Exended Class\n"
          ],
          "name": "stdout"
        }
      ]
    },
    {
      "cell_type": "code",
      "metadata": {
        "id": "6ozE07IVVcU2"
      },
      "source": [
        ""
      ],
      "execution_count": null,
      "outputs": []
    },
    {
      "cell_type": "markdown",
      "metadata": {
        "id": "NOStIUFrWD8O"
      },
      "source": [
        "# Operation"
      ]
    },
    {
      "cell_type": "code",
      "metadata": {
        "id": "8wjviCPcWJMe"
      },
      "source": [
        "class Operation():\n",
        "\n",
        "  def __init__(self, input_nodes=[]):\n",
        "\n",
        "    self.input_nodes = input_nodes\n",
        "    self.output_nodes = []\n",
        "\n",
        "    for node in input_nodes:\n",
        "      node.output_nodes.append(self)\n",
        "\n",
        "    _default_graph.operations.append(self)\n",
        "\n",
        "  \n",
        "  def compute(self):\n",
        "    pass"
      ],
      "execution_count": 20,
      "outputs": []
    },
    {
      "cell_type": "code",
      "metadata": {
        "id": "tef6l-VwXR4s"
      },
      "source": [
        "class add(Operation):\n",
        "\n",
        "  def __init__(self, x, y):\n",
        "    super().__init__([x,y])\n",
        "\n",
        "  def compute(self, x_var, y_var):\n",
        "    self.inputs = [x_var, y_var]\n",
        "    return x_var + y_var"
      ],
      "execution_count": 21,
      "outputs": []
    },
    {
      "cell_type": "code",
      "metadata": {
        "id": "aiqumrSMYGP7"
      },
      "source": [
        "class multiply(Operation):\n",
        "\n",
        "  def __init__(self, a, b):\n",
        "    super().__init__([a,b])\n",
        "\n",
        "  def compute(self, a_var, b_var):\n",
        "    self.inputs = [a_var, b_var]\n",
        "    return a_var * b_var"
      ],
      "execution_count": 22,
      "outputs": []
    },
    {
      "cell_type": "code",
      "metadata": {
        "id": "sxhJaZvoYWxu"
      },
      "source": [
        "class matmul(Operation):\n",
        "\n",
        "  def __init__(self, a, b):\n",
        "    super().__init__([a,b])\n",
        "\n",
        "  def compute(self, a_mat, b_mat):\n",
        "    self.inputs = [a_mat, b_mat]\n",
        "    return a_mat.dot(b_mat)"
      ],
      "execution_count": 23,
      "outputs": []
    },
    {
      "cell_type": "markdown",
      "metadata": {
        "id": "63iRV9SAY5Tg"
      },
      "source": [
        "# Placeholder"
      ]
    },
    {
      "cell_type": "code",
      "metadata": {
        "id": "SLpzyPHRYqPy"
      },
      "source": [
        "class Placeholder():\n",
        "\n",
        "  def __init__(self):\n",
        "\n",
        "    self.output_nodes = []\n",
        "\n",
        "    _default_graph.placeholders.append(self)"
      ],
      "execution_count": 32,
      "outputs": []
    },
    {
      "cell_type": "markdown",
      "metadata": {
        "id": "rUjU_-guZVQF"
      },
      "source": [
        "# Variables"
      ]
    },
    {
      "cell_type": "code",
      "metadata": {
        "id": "nmG7gnXtZSXu"
      },
      "source": [
        "class Variable():\n",
        "\n",
        "  def __init__(self, initial_value = None):\n",
        "\n",
        "    self.value = initial_value\n",
        "    self.output_nodes = []\n",
        "    _default_graph.variables.append(self)\n"
      ],
      "execution_count": 25,
      "outputs": []
    },
    {
      "cell_type": "markdown",
      "metadata": {
        "id": "F0moBnSoZ2So"
      },
      "source": [
        "# Graph"
      ]
    },
    {
      "cell_type": "code",
      "metadata": {
        "id": "szwb-DA2Zz_T"
      },
      "source": [
        "class Graph():\n",
        "\n",
        "  def __init__(self):\n",
        "\n",
        "    self.operations = []\n",
        "    self.variables = []\n",
        "    self.placeholders = []\n",
        "\n",
        "  def set_as_default(self):\n",
        "\n",
        "    global _default_graph\n",
        "    _default_graph = self"
      ],
      "execution_count": 26,
      "outputs": []
    },
    {
      "cell_type": "markdown",
      "metadata": {
        "id": "1Mf9b8qXalgg"
      },
      "source": [
        "$$ y = mx + c $$\n",
        "\n",
        "m = 10\n",
        "c = 1\n",
        "\n",
        "$$ y = 10x + 1 $$"
      ]
    },
    {
      "cell_type": "code",
      "metadata": {
        "id": "_-CUFuvNah1f"
      },
      "source": [
        "g = Graph()"
      ],
      "execution_count": 27,
      "outputs": []
    },
    {
      "cell_type": "code",
      "metadata": {
        "id": "LDrdZTF9bBhp"
      },
      "source": [
        "g.set_as_default()"
      ],
      "execution_count": 28,
      "outputs": []
    },
    {
      "cell_type": "code",
      "metadata": {
        "id": "uv_tzzcJbDg9"
      },
      "source": [
        "m = Variable(10)"
      ],
      "execution_count": 29,
      "outputs": []
    },
    {
      "cell_type": "code",
      "metadata": {
        "id": "WFvEZ6S9bIRW"
      },
      "source": [
        "c = Variable(1)"
      ],
      "execution_count": 30,
      "outputs": []
    },
    {
      "cell_type": "code",
      "metadata": {
        "id": "U6yNn3u5bLYR"
      },
      "source": [
        "x = Placeholder()"
      ],
      "execution_count": 33,
      "outputs": []
    },
    {
      "cell_type": "code",
      "metadata": {
        "id": "1edfcZX7bPDn"
      },
      "source": [
        "z = multiply(m,x)"
      ],
      "execution_count": 34,
      "outputs": []
    },
    {
      "cell_type": "code",
      "metadata": {
        "id": "Owc701fkbhUf"
      },
      "source": [
        "y = add(z,c)"
      ],
      "execution_count": 35,
      "outputs": []
    },
    {
      "cell_type": "code",
      "metadata": {
        "id": "4cpW2VGcbmBA"
      },
      "source": [
        ""
      ],
      "execution_count": null,
      "outputs": []
    }
  ]
}