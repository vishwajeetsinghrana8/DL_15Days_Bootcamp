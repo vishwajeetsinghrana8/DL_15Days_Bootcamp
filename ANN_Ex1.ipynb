{
 "cells": [
  {
   "cell_type": "code",
   "execution_count": 76,
   "metadata": {},
   "outputs": [],
   "source": [
    "import pandas as pd"
   ]
  },
  {
   "cell_type": "code",
   "execution_count": 77,
   "metadata": {},
   "outputs": [
    {
     "data": {
      "text/html": [
       "<div>\n",
       "<style scoped>\n",
       "    .dataframe tbody tr th:only-of-type {\n",
       "        vertical-align: middle;\n",
       "    }\n",
       "\n",
       "    .dataframe tbody tr th {\n",
       "        vertical-align: top;\n",
       "    }\n",
       "\n",
       "    .dataframe thead th {\n",
       "        text-align: right;\n",
       "    }\n",
       "</style>\n",
       "<table border=\"1\" class=\"dataframe\">\n",
       "  <thead>\n",
       "    <tr style=\"text-align: right;\">\n",
       "      <th></th>\n",
       "      <th>RowNumber</th>\n",
       "      <th>CustomerId</th>\n",
       "      <th>Surname</th>\n",
       "      <th>CreditScore</th>\n",
       "      <th>Geography</th>\n",
       "      <th>Gender</th>\n",
       "      <th>Age</th>\n",
       "      <th>Tenure</th>\n",
       "      <th>Balance</th>\n",
       "      <th>NumOfProducts</th>\n",
       "      <th>HasCrCard</th>\n",
       "      <th>IsActiveMember</th>\n",
       "      <th>EstimatedSalary</th>\n",
       "      <th>Exited</th>\n",
       "    </tr>\n",
       "  </thead>\n",
       "  <tbody>\n",
       "    <tr>\n",
       "      <th>0</th>\n",
       "      <td>1</td>\n",
       "      <td>15634602</td>\n",
       "      <td>Hargrave</td>\n",
       "      <td>619</td>\n",
       "      <td>France</td>\n",
       "      <td>Female</td>\n",
       "      <td>42</td>\n",
       "      <td>2</td>\n",
       "      <td>0.00</td>\n",
       "      <td>1</td>\n",
       "      <td>1</td>\n",
       "      <td>1</td>\n",
       "      <td>101348.88</td>\n",
       "      <td>1</td>\n",
       "    </tr>\n",
       "    <tr>\n",
       "      <th>1</th>\n",
       "      <td>2</td>\n",
       "      <td>15647311</td>\n",
       "      <td>Hill</td>\n",
       "      <td>608</td>\n",
       "      <td>Spain</td>\n",
       "      <td>Female</td>\n",
       "      <td>41</td>\n",
       "      <td>1</td>\n",
       "      <td>83807.86</td>\n",
       "      <td>1</td>\n",
       "      <td>0</td>\n",
       "      <td>1</td>\n",
       "      <td>112542.58</td>\n",
       "      <td>0</td>\n",
       "    </tr>\n",
       "    <tr>\n",
       "      <th>2</th>\n",
       "      <td>3</td>\n",
       "      <td>15619304</td>\n",
       "      <td>Onio</td>\n",
       "      <td>502</td>\n",
       "      <td>France</td>\n",
       "      <td>Female</td>\n",
       "      <td>42</td>\n",
       "      <td>8</td>\n",
       "      <td>159660.80</td>\n",
       "      <td>3</td>\n",
       "      <td>1</td>\n",
       "      <td>0</td>\n",
       "      <td>113931.57</td>\n",
       "      <td>1</td>\n",
       "    </tr>\n",
       "    <tr>\n",
       "      <th>3</th>\n",
       "      <td>4</td>\n",
       "      <td>15701354</td>\n",
       "      <td>Boni</td>\n",
       "      <td>699</td>\n",
       "      <td>France</td>\n",
       "      <td>Female</td>\n",
       "      <td>39</td>\n",
       "      <td>1</td>\n",
       "      <td>0.00</td>\n",
       "      <td>2</td>\n",
       "      <td>0</td>\n",
       "      <td>0</td>\n",
       "      <td>93826.63</td>\n",
       "      <td>0</td>\n",
       "    </tr>\n",
       "    <tr>\n",
       "      <th>4</th>\n",
       "      <td>5</td>\n",
       "      <td>15737888</td>\n",
       "      <td>Mitchell</td>\n",
       "      <td>850</td>\n",
       "      <td>Spain</td>\n",
       "      <td>Female</td>\n",
       "      <td>43</td>\n",
       "      <td>2</td>\n",
       "      <td>125510.82</td>\n",
       "      <td>1</td>\n",
       "      <td>1</td>\n",
       "      <td>1</td>\n",
       "      <td>79084.10</td>\n",
       "      <td>0</td>\n",
       "    </tr>\n",
       "  </tbody>\n",
       "</table>\n",
       "</div>"
      ],
      "text/plain": [
       "   RowNumber  CustomerId   Surname  CreditScore Geography  Gender  Age  \\\n",
       "0          1    15634602  Hargrave          619    France  Female   42   \n",
       "1          2    15647311      Hill          608     Spain  Female   41   \n",
       "2          3    15619304      Onio          502    France  Female   42   \n",
       "3          4    15701354      Boni          699    France  Female   39   \n",
       "4          5    15737888  Mitchell          850     Spain  Female   43   \n",
       "\n",
       "   Tenure    Balance  NumOfProducts  HasCrCard  IsActiveMember  \\\n",
       "0       2       0.00              1          1               1   \n",
       "1       1   83807.86              1          0               1   \n",
       "2       8  159660.80              3          1               0   \n",
       "3       1       0.00              2          0               0   \n",
       "4       2  125510.82              1          1               1   \n",
       "\n",
       "   EstimatedSalary  Exited  \n",
       "0        101348.88       1  \n",
       "1        112542.58       0  \n",
       "2        113931.57       1  \n",
       "3         93826.63       0  \n",
       "4         79084.10       0  "
      ]
     },
     "execution_count": 77,
     "metadata": {},
     "output_type": "execute_result"
    }
   ],
   "source": [
    "dataset = pd.read_csv(\"Churn_Modelling.csv\")\n",
    "dataset.head()"
   ]
  },
  {
   "cell_type": "code",
   "execution_count": 78,
   "metadata": {},
   "outputs": [],
   "source": [
    "X = dataset.iloc[:,3:-1].values\n",
    "y = dataset.iloc[:,-1].values"
   ]
  },
  {
   "cell_type": "code",
   "execution_count": 79,
   "metadata": {},
   "outputs": [
    {
     "data": {
      "text/plain": [
       "array([1, 0, 1, ..., 1, 1, 0], dtype=int64)"
      ]
     },
     "execution_count": 79,
     "metadata": {},
     "output_type": "execute_result"
    }
   ],
   "source": [
    "X\n",
    "y"
   ]
  },
  {
   "cell_type": "code",
   "execution_count": 80,
   "metadata": {},
   "outputs": [],
   "source": [
    "from sklearn.preprocessing import LabelEncoder"
   ]
  },
  {
   "cell_type": "code",
   "execution_count": 81,
   "metadata": {},
   "outputs": [],
   "source": [
    "le = LabelEncoder()\n",
    "X[:,2] = le.fit_transform(X[:,2])"
   ]
  },
  {
   "cell_type": "code",
   "execution_count": 82,
   "metadata": {},
   "outputs": [],
   "source": [
    "from sklearn.preprocessing import OneHotEncoder\n",
    "from sklearn.compose import ColumnTransformer"
   ]
  },
  {
   "cell_type": "code",
   "execution_count": 83,
   "metadata": {},
   "outputs": [],
   "source": [
    "ct  = ColumnTransformer(transformers=[('encoder', OneHotEncoder(),[1])], remainder='passthrough')\n",
    "X = ct.fit_transform(X)"
   ]
  },
  {
   "cell_type": "code",
   "execution_count": 84,
   "metadata": {},
   "outputs": [
    {
     "name": "stdout",
     "output_type": "stream",
     "text": [
      "[[1.0 0.0 0.0 ... 1 1 101348.88]\n",
      " [0.0 0.0 1.0 ... 0 1 112542.58]\n",
      " [1.0 0.0 0.0 ... 1 0 113931.57]\n",
      " ...\n",
      " [1.0 0.0 0.0 ... 0 1 42085.58]\n",
      " [0.0 1.0 0.0 ... 1 0 92888.52]\n",
      " [1.0 0.0 0.0 ... 1 0 38190.78]]\n"
     ]
    }
   ],
   "source": [
    "print(X)"
   ]
  },
  {
   "cell_type": "code",
   "execution_count": 85,
   "metadata": {},
   "outputs": [],
   "source": [
    "from sklearn.model_selection import train_test_split"
   ]
  },
  {
   "cell_type": "code",
   "execution_count": 86,
   "metadata": {},
   "outputs": [],
   "source": [
    " X_train, X_test, y_train, y_test = train_test_split(X, y, test_size=0.2, random_state=0)"
   ]
  },
  {
   "cell_type": "code",
   "execution_count": 87,
   "metadata": {},
   "outputs": [],
   "source": [
    "from sklearn.preprocessing import StandardScaler"
   ]
  },
  {
   "cell_type": "code",
   "execution_count": 88,
   "metadata": {},
   "outputs": [],
   "source": [
    "sc = StandardScaler()\n",
    "X_train = sc.fit_transform(X_train)\n",
    "X_test = sc.transform(X_test)"
   ]
  },
  {
   "cell_type": "code",
   "execution_count": 89,
   "metadata": {},
   "outputs": [],
   "source": [
    "import tensorflow as tf"
   ]
  },
  {
   "cell_type": "code",
   "execution_count": 90,
   "metadata": {},
   "outputs": [],
   "source": [
    "ann = tf.keras.models.Sequential()\n",
    "\n",
    "ann.add(tf.keras.layers.Dense(units=6, activation='relu'))\n",
    "ann.add(tf.keras.layers.Dense(units=6, activation='relu'))\n",
    "ann.add(tf.keras.layers.Dense(units=1, activation='sigmoid'))"
   ]
  },
  {
   "cell_type": "code",
   "execution_count": 91,
   "metadata": {},
   "outputs": [],
   "source": [
    "ann.compile(optimizer='adam', metrics=['accuracy'], loss='binary_crossentropy')"
   ]
  },
  {
   "cell_type": "code",
   "execution_count": 92,
   "metadata": {
    "collapsed": true,
    "jupyter": {
     "outputs_hidden": true
    }
   },
   "outputs": [
    {
     "name": "stdout",
     "output_type": "stream",
     "text": [
      "Epoch 1/100\n",
      "160/160 [==============================] - 2s 2ms/step - loss: 0.5694 - accuracy: 0.7821\n",
      "Epoch 2/100\n",
      "160/160 [==============================] - 0s 2ms/step - loss: 0.4786 - accuracy: 0.7928\n",
      "Epoch 3/100\n",
      "160/160 [==============================] - 0s 2ms/step - loss: 0.4491 - accuracy: 0.7976\n",
      "Epoch 4/100\n",
      "160/160 [==============================] - 0s 2ms/step - loss: 0.4467 - accuracy: 0.7889\n",
      "Epoch 5/100\n",
      "160/160 [==============================] - 0s 2ms/step - loss: 0.4391 - accuracy: 0.7904\n",
      "Epoch 6/100\n",
      "160/160 [==============================] - 0s 2ms/step - loss: 0.4317 - accuracy: 0.7958\n",
      "Epoch 7/100\n",
      "160/160 [==============================] - 0s 2ms/step - loss: 0.4320 - accuracy: 0.8166\n",
      "Epoch 8/100\n",
      "160/160 [==============================] - 0s 2ms/step - loss: 0.4305 - accuracy: 0.8149\n",
      "Epoch 9/100\n",
      "160/160 [==============================] - 0s 2ms/step - loss: 0.4324 - accuracy: 0.8125\n",
      "Epoch 10/100\n",
      "160/160 [==============================] - 0s 2ms/step - loss: 0.4108 - accuracy: 0.8255\n",
      "Epoch 11/100\n",
      "160/160 [==============================] - 0s 2ms/step - loss: 0.3944 - accuracy: 0.8293\n",
      "Epoch 12/100\n",
      "160/160 [==============================] - 0s 2ms/step - loss: 0.3840 - accuracy: 0.8445\n",
      "Epoch 13/100\n",
      "160/160 [==============================] - 0s 2ms/step - loss: 0.3909 - accuracy: 0.8347\n",
      "Epoch 14/100\n",
      "160/160 [==============================] - 0s 2ms/step - loss: 0.3856 - accuracy: 0.8409\n",
      "Epoch 15/100\n",
      "160/160 [==============================] - 0s 2ms/step - loss: 0.3693 - accuracy: 0.8481\n",
      "Epoch 16/100\n",
      "160/160 [==============================] - 0s 3ms/step - loss: 0.3731 - accuracy: 0.8463\n",
      "Epoch 17/100\n",
      "160/160 [==============================] - 0s 3ms/step - loss: 0.3665 - accuracy: 0.8501\n",
      "Epoch 18/100\n",
      "160/160 [==============================] - 1s 3ms/step - loss: 0.3647 - accuracy: 0.8518\n",
      "Epoch 19/100\n",
      "160/160 [==============================] - 0s 3ms/step - loss: 0.3636 - accuracy: 0.8504\n",
      "Epoch 20/100\n",
      "160/160 [==============================] - 1s 3ms/step - loss: 0.3669 - accuracy: 0.8475\n",
      "Epoch 21/100\n",
      "160/160 [==============================] - 1s 3ms/step - loss: 0.3583 - accuracy: 0.8522\n",
      "Epoch 22/100\n",
      "160/160 [==============================] - 1s 4ms/step - loss: 0.3605 - accuracy: 0.8512\n",
      "Epoch 23/100\n",
      "160/160 [==============================] - 1s 6ms/step - loss: 0.3546 - accuracy: 0.8523\n",
      "Epoch 24/100\n",
      "160/160 [==============================] - 1s 5ms/step - loss: 0.3444 - accuracy: 0.8593\n",
      "Epoch 25/100\n",
      "160/160 [==============================] - 1s 4ms/step - loss: 0.3447 - accuracy: 0.8584\n",
      "Epoch 26/100\n",
      "160/160 [==============================] - 1s 4ms/step - loss: 0.3601 - accuracy: 0.8531\n",
      "Epoch 27/100\n",
      "160/160 [==============================] - 0s 3ms/step - loss: 0.3556 - accuracy: 0.8527\n",
      "Epoch 28/100\n",
      "160/160 [==============================] - 0s 3ms/step - loss: 0.3506 - accuracy: 0.8549\n",
      "Epoch 29/100\n",
      "160/160 [==============================] - 0s 3ms/step - loss: 0.3432 - accuracy: 0.8568\n",
      "Epoch 30/100\n",
      "160/160 [==============================] - 0s 3ms/step - loss: 0.3568 - accuracy: 0.8531\n",
      "Epoch 31/100\n",
      "160/160 [==============================] - 0s 3ms/step - loss: 0.3505 - accuracy: 0.8512\n",
      "Epoch 32/100\n",
      "160/160 [==============================] - 0s 3ms/step - loss: 0.3499 - accuracy: 0.8550\n",
      "Epoch 33/100\n",
      "160/160 [==============================] - 0s 3ms/step - loss: 0.3442 - accuracy: 0.8595\n",
      "Epoch 34/100\n",
      "160/160 [==============================] - 0s 3ms/step - loss: 0.3514 - accuracy: 0.8575\n",
      "Epoch 35/100\n",
      "160/160 [==============================] - 0s 3ms/step - loss: 0.3426 - accuracy: 0.8565\n",
      "Epoch 36/100\n",
      "160/160 [==============================] - 0s 3ms/step - loss: 0.3467 - accuracy: 0.8570\n",
      "Epoch 37/100\n",
      "160/160 [==============================] - 1s 3ms/step - loss: 0.3444 - accuracy: 0.8630\n",
      "Epoch 38/100\n",
      "160/160 [==============================] - 0s 3ms/step - loss: 0.3589 - accuracy: 0.8534\n",
      "Epoch 39/100\n",
      "160/160 [==============================] - 0s 3ms/step - loss: 0.3365 - accuracy: 0.8618\n",
      "Epoch 40/100\n",
      "160/160 [==============================] - 0s 3ms/step - loss: 0.3428 - accuracy: 0.8592\n",
      "Epoch 41/100\n",
      "160/160 [==============================] - 0s 3ms/step - loss: 0.3352 - accuracy: 0.8629\n",
      "Epoch 42/100\n",
      "160/160 [==============================] - 0s 3ms/step - loss: 0.3371 - accuracy: 0.8672\n",
      "Epoch 43/100\n",
      "160/160 [==============================] - 0s 3ms/step - loss: 0.3408 - accuracy: 0.8610\n",
      "Epoch 44/100\n",
      "160/160 [==============================] - 0s 3ms/step - loss: 0.3320 - accuracy: 0.8642\n",
      "Epoch 45/100\n",
      "160/160 [==============================] - 1s 4ms/step - loss: 0.3303 - accuracy: 0.8641\n",
      "Epoch 46/100\n",
      "160/160 [==============================] - 1s 3ms/step - loss: 0.3436 - accuracy: 0.8579\n",
      "Epoch 47/100\n",
      "160/160 [==============================] - 1s 4ms/step - loss: 0.3428 - accuracy: 0.8567\n",
      "Epoch 48/100\n",
      "160/160 [==============================] - 1s 3ms/step - loss: 0.3382 - accuracy: 0.8617\n",
      "Epoch 49/100\n",
      "160/160 [==============================] - 1s 5ms/step - loss: 0.3336 - accuracy: 0.8663\n",
      "Epoch 50/100\n",
      "160/160 [==============================] - 1s 4ms/step - loss: 0.3376 - accuracy: 0.8634\n",
      "Epoch 51/100\n",
      "160/160 [==============================] - 1s 5ms/step - loss: 0.3355 - accuracy: 0.8623\n",
      "Epoch 52/100\n",
      "160/160 [==============================] - 1s 4ms/step - loss: 0.3315 - accuracy: 0.8641\n",
      "Epoch 53/100\n",
      "160/160 [==============================] - 1s 4ms/step - loss: 0.3327 - accuracy: 0.8653\n",
      "Epoch 54/100\n",
      "160/160 [==============================] - 1s 3ms/step - loss: 0.3327 - accuracy: 0.8660\n",
      "Epoch 55/100\n",
      "160/160 [==============================] - 0s 3ms/step - loss: 0.3372 - accuracy: 0.8622\n",
      "Epoch 56/100\n",
      "160/160 [==============================] - 0s 3ms/step - loss: 0.3356 - accuracy: 0.8633\n",
      "Epoch 57/100\n",
      "160/160 [==============================] - 0s 3ms/step - loss: 0.3419 - accuracy: 0.8621\n",
      "Epoch 58/100\n",
      "160/160 [==============================] - 0s 3ms/step - loss: 0.3421 - accuracy: 0.8578\n",
      "Epoch 59/100\n",
      "160/160 [==============================] - 0s 3ms/step - loss: 0.3326 - accuracy: 0.8646\n",
      "Epoch 60/100\n",
      "160/160 [==============================] - 0s 3ms/step - loss: 0.3274 - accuracy: 0.8676\n",
      "Epoch 61/100\n",
      "160/160 [==============================] - 1s 3ms/step - loss: 0.3356 - accuracy: 0.8599\n",
      "Epoch 62/100\n",
      "160/160 [==============================] - 1s 4ms/step - loss: 0.3285 - accuracy: 0.8657\n",
      "Epoch 63/100\n",
      "160/160 [==============================] - 0s 3ms/step - loss: 0.3305 - accuracy: 0.8632\n",
      "Epoch 64/100\n",
      "160/160 [==============================] - 0s 3ms/step - loss: 0.3400 - accuracy: 0.8598\n",
      "Epoch 65/100\n",
      "160/160 [==============================] - 0s 2ms/step - loss: 0.3446 - accuracy: 0.8585\n",
      "Epoch 66/100\n",
      "160/160 [==============================] - 0s 3ms/step - loss: 0.3313 - accuracy: 0.8597\n",
      "Epoch 67/100\n",
      "160/160 [==============================] - 1s 3ms/step - loss: 0.3433 - accuracy: 0.8583\n",
      "Epoch 68/100\n",
      "160/160 [==============================] - 0s 3ms/step - loss: 0.3442 - accuracy: 0.8571\n",
      "Epoch 69/100\n",
      "160/160 [==============================] - 0s 3ms/step - loss: 0.3388 - accuracy: 0.8622\n",
      "Epoch 70/100\n",
      "160/160 [==============================] - 1s 4ms/step - loss: 0.3356 - accuracy: 0.8626\n",
      "Epoch 71/100\n",
      "160/160 [==============================] - 0s 3ms/step - loss: 0.3321 - accuracy: 0.8604\n",
      "Epoch 72/100\n",
      "160/160 [==============================] - 0s 3ms/step - loss: 0.3406 - accuracy: 0.8577\n",
      "Epoch 73/100\n",
      "160/160 [==============================] - 0s 3ms/step - loss: 0.3344 - accuracy: 0.8648\n",
      "Epoch 74/100\n",
      "160/160 [==============================] - 0s 3ms/step - loss: 0.3279 - accuracy: 0.8673\n",
      "Epoch 75/100\n",
      "160/160 [==============================] - 0s 2ms/step - loss: 0.3408 - accuracy: 0.8612\n",
      "Epoch 76/100\n",
      "160/160 [==============================] - 0s 3ms/step - loss: 0.3252 - accuracy: 0.8701\n",
      "Epoch 77/100\n",
      "160/160 [==============================] - 0s 3ms/step - loss: 0.3470 - accuracy: 0.8569\n",
      "Epoch 78/100\n",
      "160/160 [==============================] - 0s 3ms/step - loss: 0.3299 - accuracy: 0.8600\n",
      "Epoch 79/100\n",
      "160/160 [==============================] - 0s 2ms/step - loss: 0.3348 - accuracy: 0.8600\n",
      "Epoch 80/100\n",
      "160/160 [==============================] - 0s 3ms/step - loss: 0.3265 - accuracy: 0.8673\n",
      "Epoch 81/100\n",
      "160/160 [==============================] - 0s 3ms/step - loss: 0.3350 - accuracy: 0.8594\n",
      "Epoch 82/100\n",
      "160/160 [==============================] - 0s 3ms/step - loss: 0.3399 - accuracy: 0.8567\n",
      "Epoch 83/100\n",
      "160/160 [==============================] - 0s 3ms/step - loss: 0.3303 - accuracy: 0.8646\n",
      "Epoch 84/100\n",
      "160/160 [==============================] - 0s 3ms/step - loss: 0.3233 - accuracy: 0.8659\n",
      "Epoch 85/100\n",
      "160/160 [==============================] - 0s 3ms/step - loss: 0.3374 - accuracy: 0.8597\n",
      "Epoch 86/100\n",
      "160/160 [==============================] - 0s 2ms/step - loss: 0.3375 - accuracy: 0.8579\n",
      "Epoch 87/100\n",
      "160/160 [==============================] - 1s 3ms/step - loss: 0.3283 - accuracy: 0.8661\n",
      "Epoch 88/100\n",
      "160/160 [==============================] - 0s 3ms/step - loss: 0.3378 - accuracy: 0.8619\n",
      "Epoch 89/100\n",
      "160/160 [==============================] - 0s 3ms/step - loss: 0.3315 - accuracy: 0.8659\n",
      "Epoch 90/100\n",
      "160/160 [==============================] - 0s 3ms/step - loss: 0.3309 - accuracy: 0.8631\n",
      "Epoch 91/100\n",
      "160/160 [==============================] - 0s 3ms/step - loss: 0.3358 - accuracy: 0.8617\n",
      "Epoch 92/100\n",
      "160/160 [==============================] - 0s 3ms/step - loss: 0.3327 - accuracy: 0.8678\n",
      "Epoch 93/100\n",
      "160/160 [==============================] - 1s 3ms/step - loss: 0.3230 - accuracy: 0.8676\n",
      "Epoch 94/100\n",
      "160/160 [==============================] - 0s 3ms/step - loss: 0.3336 - accuracy: 0.8625\n",
      "Epoch 95/100\n",
      "160/160 [==============================] - 0s 3ms/step - loss: 0.3197 - accuracy: 0.8750\n",
      "Epoch 96/100\n",
      "160/160 [==============================] - 0s 3ms/step - loss: 0.3297 - accuracy: 0.8678\n",
      "Epoch 97/100\n",
      "160/160 [==============================] - 0s 3ms/step - loss: 0.3393 - accuracy: 0.8598\n",
      "Epoch 98/100\n",
      "160/160 [==============================] - 0s 3ms/step - loss: 0.3345 - accuracy: 0.8610\n",
      "Epoch 99/100\n",
      "160/160 [==============================] - 1s 4ms/step - loss: 0.3389 - accuracy: 0.8632\n",
      "Epoch 100/100\n",
      "160/160 [==============================] - 0s 3ms/step - loss: 0.3350 - accuracy: 0.8606\n"
     ]
    },
    {
     "data": {
      "text/plain": [
       "<tensorflow.python.keras.callbacks.History at 0x15c57ad92b0>"
      ]
     },
     "execution_count": 92,
     "metadata": {},
     "output_type": "execute_result"
    }
   ],
   "source": [
    "ann.fit(X_train, y_train, batch_size=50, epochs=100)"
   ]
  },
  {
   "cell_type": "code",
   "execution_count": 93,
   "metadata": {},
   "outputs": [
    {
     "data": {
      "text/plain": [
       "array([[False],\n",
       "       [False],\n",
       "       [False],\n",
       "       ...,\n",
       "       [False],\n",
       "       [False],\n",
       "       [False]])"
      ]
     },
     "execution_count": 93,
     "metadata": {},
     "output_type": "execute_result"
    }
   ],
   "source": [
    "y_pred = ann.predict(X_test)\n",
    "y_pred = (y_pred > 0.5)\n",
    "y_pred"
   ]
  },
  {
   "cell_type": "code",
   "execution_count": 94,
   "metadata": {},
   "outputs": [],
   "source": [
    "from sklearn.metrics import confusion_matrix, accuracy_score"
   ]
  },
  {
   "cell_type": "code",
   "execution_count": 95,
   "metadata": {},
   "outputs": [
    {
     "name": "stdout",
     "output_type": "stream",
     "text": [
      "[[1530   65]\n",
      " [ 210  195]]\n"
     ]
    }
   ],
   "source": [
    "cm = confusion_matrix(y_test,y_pred)\n",
    "print(cm)"
   ]
  },
  {
   "cell_type": "code",
   "execution_count": 96,
   "metadata": {},
   "outputs": [
    {
     "data": {
      "text/plain": [
       "0.8625"
      ]
     },
     "execution_count": 96,
     "metadata": {},
     "output_type": "execute_result"
    }
   ],
   "source": [
    "accuracy_score(y_test, y_pred)"
   ]
  },
  {
   "cell_type": "code",
   "execution_count": null,
   "metadata": {},
   "outputs": [],
   "source": []
  }
 ],
 "metadata": {
  "kernelspec": {
   "display_name": "Python 3",
   "language": "python",
   "name": "python3"
  },
  "language_info": {
   "codemirror_mode": {
    "name": "ipython",
    "version": 3
   },
   "file_extension": ".py",
   "mimetype": "text/x-python",
   "name": "python",
   "nbconvert_exporter": "python",
   "pygments_lexer": "ipython3",
   "version": "3.8.6"
  }
 },
 "nbformat": 4,
 "nbformat_minor": 4
}
