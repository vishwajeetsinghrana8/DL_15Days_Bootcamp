{
  "nbformat": 4,
  "nbformat_minor": 0,
  "metadata": {
    "colab": {
      "name": "Day5 NN-Part-1.ipynb",
      "provenance": []
    },
    "kernelspec": {
      "name": "python3",
      "display_name": "Python 3"
    },
    "language_info": {
      "name": "python"
    }
  },
  "cells": [
    {
      "cell_type": "code",
      "metadata": {
        "id": "qj1CRIJeSke2"
      },
      "source": [
        ""
      ],
      "execution_count": null,
      "outputs": []
    },
    {
      "cell_type": "markdown",
      "metadata": {
        "id": "Zir5hA8iTrvk"
      },
      "source": [
        "# OOP"
      ]
    },
    {
      "cell_type": "code",
      "metadata": {
        "id": "zipQk3IhTvad"
      },
      "source": [
        "class SimpleClass():\n",
        "\n",
        "  def __init__(self, name):\n",
        "    print(\"Hello \"+name)"
      ],
      "execution_count": null,
      "outputs": []
    },
    {
      "cell_type": "code",
      "metadata": {
        "colab": {
          "base_uri": "https://localhost:8080/"
        },
        "id": "kgpcol7iUC9b",
        "outputId": "8499d701-5a65-4ae1-f6f4-1241a0f0ebc5"
      },
      "source": [
        "y = SimpleClass(\"Satyam\")\n",
        "print(y)"
      ],
      "execution_count": null,
      "outputs": [
        {
          "output_type": "stream",
          "text": [
            "Hello Satyam\n",
            "<__main__.SimpleClass object at 0x7f3cc03c6790>\n"
          ],
          "name": "stdout"
        }
      ]
    },
    {
      "cell_type": "code",
      "metadata": {
        "id": "LT2e5XFlUQJv"
      },
      "source": [
        "class ExtendedClass(SimpleClass):\n",
        "  def __init__(self):\n",
        "    print(\"Exended Class\")"
      ],
      "execution_count": null,
      "outputs": []
    },
    {
      "cell_type": "code",
      "metadata": {
        "colab": {
          "base_uri": "https://localhost:8080/"
        },
        "id": "W4ylWtYGVCLR",
        "outputId": "88c89306-4b82-4c71-b41e-b9c0cf349523"
      },
      "source": [
        "s = ExtendedClass()"
      ],
      "execution_count": null,
      "outputs": [
        {
          "output_type": "stream",
          "text": [
            "Exended Class\n"
          ],
          "name": "stdout"
        }
      ]
    },
    {
      "cell_type": "code",
      "metadata": {
        "id": "EMEq2kTvVGzB"
      },
      "source": [
        "class ExtendedClass(SimpleClass):\n",
        "\n",
        "  def __init__(self):\n",
        "    super().__init__(\"Vishwajeet\")\n",
        "    print(\"Exended Class\")"
      ],
      "execution_count": null,
      "outputs": []
    },
    {
      "cell_type": "code",
      "metadata": {
        "colab": {
          "base_uri": "https://localhost:8080/"
        },
        "id": "hqehoIywVZP-",
        "outputId": "0e4255f9-53e1-4938-91d8-2127064579e1"
      },
      "source": [
        "s = ExtendedClass()"
      ],
      "execution_count": null,
      "outputs": [
        {
          "output_type": "stream",
          "text": [
            "Hello Vishwajeet\n",
            "Exended Class\n"
          ],
          "name": "stdout"
        }
      ]
    },
    {
      "cell_type": "code",
      "metadata": {
        "id": "6ozE07IVVcU2"
      },
      "source": [
        ""
      ],
      "execution_count": null,
      "outputs": []
    },
    {
      "cell_type": "markdown",
      "metadata": {
        "id": "NOStIUFrWD8O"
      },
      "source": [
        "# Operation"
      ]
    },
    {
      "cell_type": "code",
      "metadata": {
        "id": "8wjviCPcWJMe"
      },
      "source": [
        "class Operation():\n",
        "\n",
        "  def __init__(self, input_nodes=[]):\n",
        "\n",
        "    self.input_nodes = input_nodes\n",
        "    self.output_nodes = []\n",
        "\n",
        "    for node in input_nodes:\n",
        "      node.output_nodes.append(self)\n",
        "\n",
        "    _default_graph.operations.append(self)\n",
        "\n",
        "  \n",
        "  def compute(self):\n",
        "    pass"
      ],
      "execution_count": 1,
      "outputs": []
    },
    {
      "cell_type": "code",
      "metadata": {
        "id": "tef6l-VwXR4s"
      },
      "source": [
        "class add(Operation):\n",
        "\n",
        "  def __init__(self, x, y):\n",
        "    super().__init__([x,y])\n",
        "\n",
        "  def compute(self, x_var, y_var):\n",
        "    self.inputs = [x_var, y_var]\n",
        "    return x_var + y_var"
      ],
      "execution_count": 2,
      "outputs": []
    },
    {
      "cell_type": "code",
      "metadata": {
        "id": "aiqumrSMYGP7"
      },
      "source": [
        "class multiply(Operation):\n",
        "\n",
        "  def __init__(self, a, b):\n",
        "    super().__init__([a,b])\n",
        "\n",
        "  def compute(self, a_var, b_var):\n",
        "    self.inputs = [a_var, b_var]\n",
        "    return a_var * b_var"
      ],
      "execution_count": 3,
      "outputs": []
    },
    {
      "cell_type": "code",
      "metadata": {
        "id": "sxhJaZvoYWxu"
      },
      "source": [
        "class matmul(Operation):\n",
        "\n",
        "  def __init__(self, a, b):\n",
        "    super().__init__([a,b])\n",
        "\n",
        "  def compute(self, a_mat, b_mat):\n",
        "    self.inputs = [a_mat, b_mat]\n",
        "    return a_mat.dot(b_mat)"
      ],
      "execution_count": 4,
      "outputs": []
    },
    {
      "cell_type": "markdown",
      "metadata": {
        "id": "63iRV9SAY5Tg"
      },
      "source": [
        "# Placeholder"
      ]
    },
    {
      "cell_type": "code",
      "metadata": {
        "id": "SLpzyPHRYqPy"
      },
      "source": [
        "class Placeholder():\n",
        "\n",
        "  def __init__(self):\n",
        "\n",
        "    self.output_nodes = []\n",
        "\n",
        "    _default_graph.placeholders.append(self)"
      ],
      "execution_count": 5,
      "outputs": []
    },
    {
      "cell_type": "markdown",
      "metadata": {
        "id": "rUjU_-guZVQF"
      },
      "source": [
        "# Variables"
      ]
    },
    {
      "cell_type": "code",
      "metadata": {
        "id": "nmG7gnXtZSXu"
      },
      "source": [
        "class Variable():\n",
        "\n",
        "  def __init__(self, initial_value = None):\n",
        "\n",
        "    self.value = initial_value\n",
        "    self.output_nodes = []\n",
        "    _default_graph.variables.append(self)\n"
      ],
      "execution_count": 6,
      "outputs": []
    },
    {
      "cell_type": "markdown",
      "metadata": {
        "id": "F0moBnSoZ2So"
      },
      "source": [
        "# Graph"
      ]
    },
    {
      "cell_type": "code",
      "metadata": {
        "id": "szwb-DA2Zz_T"
      },
      "source": [
        "class Graph():\n",
        "\n",
        "  def __init__(self):\n",
        "\n",
        "    self.operations = []\n",
        "    self.variables = []\n",
        "    self.placeholders = []\n",
        "\n",
        "  def set_as_default(self):\n",
        "\n",
        "    global _default_graph\n",
        "    _default_graph = self"
      ],
      "execution_count": 7,
      "outputs": []
    },
    {
      "cell_type": "markdown",
      "metadata": {
        "id": "1Mf9b8qXalgg"
      },
      "source": [
        "$$ y = mx + c $$\n",
        "\n",
        "m = 10\n",
        "c = 1\n",
        "\n",
        "$$ y = 10x + 1 $$"
      ]
    },
    {
      "cell_type": "code",
      "metadata": {
        "id": "_-CUFuvNah1f"
      },
      "source": [
        "g = Graph()"
      ],
      "execution_count": 8,
      "outputs": []
    },
    {
      "cell_type": "code",
      "metadata": {
        "id": "LDrdZTF9bBhp"
      },
      "source": [
        "g.set_as_default()"
      ],
      "execution_count": 9,
      "outputs": []
    },
    {
      "cell_type": "code",
      "metadata": {
        "id": "uv_tzzcJbDg9"
      },
      "source": [
        "m = Variable(10)"
      ],
      "execution_count": 10,
      "outputs": []
    },
    {
      "cell_type": "code",
      "metadata": {
        "id": "WFvEZ6S9bIRW"
      },
      "source": [
        "c = Variable(1)"
      ],
      "execution_count": 11,
      "outputs": []
    },
    {
      "cell_type": "code",
      "metadata": {
        "id": "U6yNn3u5bLYR"
      },
      "source": [
        "x = Placeholder()"
      ],
      "execution_count": 12,
      "outputs": []
    },
    {
      "cell_type": "code",
      "metadata": {
        "id": "1edfcZX7bPDn"
      },
      "source": [
        "z = multiply(m,x)"
      ],
      "execution_count": 13,
      "outputs": []
    },
    {
      "cell_type": "code",
      "metadata": {
        "id": "Owc701fkbhUf"
      },
      "source": [
        "y = add(z,c)"
      ],
      "execution_count": 14,
      "outputs": []
    },
    {
      "cell_type": "markdown",
      "metadata": {
        "id": "pnG-SUBSrbkc"
      },
      "source": [
        "#  Traversing Operations Nodes"
      ]
    },
    {
      "cell_type": "code",
      "metadata": {
        "id": "4cpW2VGcbmBA"
      },
      "source": [
        "def traverse_postorder(operation):\n",
        "\n",
        "  nodes_postorder = []\n",
        "  def recurse(node):\n",
        "    if isinstance(node, Operation):\n",
        "      for input_node in node.input_nodes:\n",
        "        recurse(input_node)\n",
        "    nodes_postorder.append(node)\n",
        "\n",
        "  recurse(operation)\n",
        "  return nodes_postorder\n",
        "\n"
      ],
      "execution_count": 15,
      "outputs": []
    },
    {
      "cell_type": "code",
      "metadata": {
        "id": "cKbAkLEss0Cr"
      },
      "source": [
        "import numpy as np\n",
        "\n",
        "class Session():\n",
        "\n",
        "  def run(self, operation, feed_dict={}):\n",
        "\n",
        "    nodes_postorder = traverse_postorder(operation)\n",
        "\n",
        "    for node in nodes_postorder:\n",
        "\n",
        "      if type(node) == Placeholder:\n",
        "        node.output = feed_dict[node]\n",
        "\n",
        "      elif type(node) == Variable:\n",
        "        node.output = node.value\n",
        "      \n",
        "      else:\n",
        "\n",
        "        node.inputs = [input_node.output for input_node in node.input_nodes]\n",
        "\n",
        "        node.output = node.compute(*node.inputs)\n",
        "\n",
        "      if type(node.output) == list:\n",
        "        node.output = np.array(node.output)\n",
        "\n",
        "    return operation.output"
      ],
      "execution_count": 16,
      "outputs": []
    },
    {
      "cell_type": "code",
      "metadata": {
        "id": "nMSkbELzu3tA"
      },
      "source": [
        "sess = Session()"
      ],
      "execution_count": 17,
      "outputs": []
    },
    {
      "cell_type": "code",
      "metadata": {
        "id": "TjaZ12EVvCXG"
      },
      "source": [
        "result = sess.run(operation=y, feed_dict={x:10})"
      ],
      "execution_count": 18,
      "outputs": []
    },
    {
      "cell_type": "code",
      "metadata": {
        "colab": {
          "base_uri": "https://localhost:8080/"
        },
        "id": "SaGeT7zrvRY9",
        "outputId": "bb38d00b-291c-4850-bb85-5fa7c21f586a"
      },
      "source": [
        "result"
      ],
      "execution_count": 19,
      "outputs": [
        {
          "output_type": "execute_result",
          "data": {
            "text/plain": [
              "101"
            ]
          },
          "metadata": {
            "tags": []
          },
          "execution_count": 19
        }
      ]
    },
    {
      "cell_type": "code",
      "metadata": {
        "id": "0qd1TZQ8vSpc"
      },
      "source": [
        "g = Graph()\n",
        "\n",
        "g.set_as_default()\n",
        "\n",
        "m = Variable([[10,20],[30,40]])\n",
        "c = Variable([1,1])\n",
        "\n",
        "x = Placeholder()\n",
        "\n",
        "z = matmul(m,x)\n",
        "\n",
        "y = add(z,c)"
      ],
      "execution_count": 20,
      "outputs": []
    },
    {
      "cell_type": "code",
      "metadata": {
        "id": "onQ2sAmfwC6l"
      },
      "source": [
        "sess = Session()"
      ],
      "execution_count": 21,
      "outputs": []
    },
    {
      "cell_type": "code",
      "metadata": {
        "id": "ck0-SEGrwGX9"
      },
      "source": [
        "result = sess.run(operation=y, feed_dict={x:10})"
      ],
      "execution_count": 22,
      "outputs": []
    },
    {
      "cell_type": "code",
      "metadata": {
        "colab": {
          "base_uri": "https://localhost:8080/"
        },
        "id": "m677JUkawQIG",
        "outputId": "2dfbd188-99bb-4409-d378-df9ac459f4e0"
      },
      "source": [
        "result"
      ],
      "execution_count": 23,
      "outputs": [
        {
          "output_type": "execute_result",
          "data": {
            "text/plain": [
              "array([[101, 201],\n",
              "       [301, 401]])"
            ]
          },
          "metadata": {
            "tags": []
          },
          "execution_count": 23
        }
      ]
    },
    {
      "cell_type": "code",
      "metadata": {
        "id": "tSF_ezyzwSCF"
      },
      "source": [
        ""
      ],
      "execution_count": null,
      "outputs": []
    }
  ]
}